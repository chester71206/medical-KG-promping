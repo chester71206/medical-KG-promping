{
 "cells": [
  {
   "cell_type": "markdown",
   "id": "8589406a",
   "metadata": {},
   "source": [
    "## Questions"
   ]
  },
  {
   "cell_type": "markdown",
   "id": "a1a01e15",
   "metadata": {},
   "source": [
    "### Large LM"
   ]
  },
  {
   "cell_type": "code",
   "execution_count": 1,
   "id": "c9679bd4",
   "metadata": {},
   "outputs": [
    {
     "name": "stdout",
     "output_type": "stream",
     "text": [
      "The average of column GreedyDist+BFS is: 4.076\n",
      "The average of column GreedyDist+PR is: 3.682\n",
      "The average of column SteinerTree+BFS is: 3.894\n",
      "The average of column SteinerTree+PR is: 4.939\n",
      "The average of column GreedyGen+BFS is: 4.03\n",
      "The average of column GreedyGen+PR is: 5.045\n",
      "The average of column MindMap is: 6.167\n",
      "The average of column Gemini-1.5 is: 4.167\n"
     ]
    }
   ],
   "source": [
    "import pandas as pd\n",
    "\n",
    "def calculate_column_average(file_path, column_name):\n",
    "    df = pd.read_csv(file_path)\n",
    "    average = df[column_name].mean()\n",
    "    return average\n",
    "\n",
    "column =[\"output1_ranking\",\"output2_ranking\",\"output3_ranking\",\"output4_ranking\",\"output5_ranking\",\"output6_ranking\",\"output7_ranking\",\"output8_ranking\"] ###\n",
    "method_list = ['GreedyDist+BFS', 'GreedyDist+PR', 'SteinerTree+BFS', 'SteinerTree+PR', 'GreedyGen+BFS', 'GreedyGen+PR', 'MindMap', 'Gemini-1.5']\n",
    "\n",
    "file_path = './3_Ranking_Compute/4fields/Q714_Gemini1.5/Q_Disease_addGemini.csv'\n",
    "for i in range(len(method_list)):\n",
    "  average = calculate_column_average(file_path, column[i])\n",
    "  print(f\"The average of column {method_list[i]} is: {round(average,3)}\")"
   ]
  },
  {
   "cell_type": "code",
   "execution_count": 3,
   "id": "62c538a1",
   "metadata": {},
   "outputs": [
    {
     "name": "stdout",
     "output_type": "stream",
     "text": [
      "The average of column GreedyDist+BFS is: 4.0\n",
      "The average of column GreedyDist+PR is: 2.933\n",
      "The average of column SteinerTree+BFS is: 4.2\n",
      "The average of column SteinerTree+PR is: 4.933\n",
      "The average of column GreedyGen+BFS is: 3.533\n",
      "The average of column GreedyGen+PR is: 4.533\n",
      "The average of column MindMap is: 7.267\n",
      "The average of column Gemini-1.5 is: 4.6\n"
     ]
    }
   ],
   "source": [
    "import pandas as pd\n",
    "\n",
    "def calculate_column_average(file_path, column_name):\n",
    "    df = pd.read_csv(file_path)\n",
    "    average = df[column_name].mean()\n",
    "    return average\n",
    "\n",
    "column =[\"output1_ranking\",\"output2_ranking\",\"output3_ranking\",\"output4_ranking\",\"output5_ranking\",\"output6_ranking\",\"output7_ranking\",\"output8_ranking\"] ###\n",
    "method_list = ['GreedyDist+BFS', 'GreedyDist+PR', 'SteinerTree+BFS', 'SteinerTree+PR', 'GreedyGen+BFS', 'GreedyGen+PR', 'MindMap', 'Gemini-1.5']\n",
    "\n",
    "file_path = './3_Ranking_Compute/4fields/Q714_Gemini1.5/Q_Medical_Test_addGemini.csv'\n",
    "for i in range(len(method_list)):\n",
    "  average = calculate_column_average(file_path, column[i])\n",
    "  print(f\"The average of column {method_list[i]} is: {round(average,3)}\")"
   ]
  },
  {
   "cell_type": "code",
   "execution_count": 4,
   "id": "d758ac5e",
   "metadata": {},
   "outputs": [
    {
     "name": "stdout",
     "output_type": "stream",
     "text": [
      "The average of column GreedyDist+BFS is: 4.771\n",
      "The average of column GreedyDist+PR is: 3.914\n",
      "The average of column SteinerTree+BFS is: 3.657\n",
      "The average of column SteinerTree+PR is: 5.086\n",
      "The average of column GreedyGen+BFS is: 4.2\n",
      "The average of column GreedyGen+PR is: 5.171\n",
      "The average of column MindMap is: 6.857\n",
      "The average of column Gemini-1.5 is: 4.171\n"
     ]
    }
   ],
   "source": [
    "import pandas as pd\n",
    "\n",
    "def calculate_column_average(file_path, column_name):\n",
    "    df = pd.read_csv(file_path)\n",
    "    average = df[column_name].mean()\n",
    "    return average\n",
    "\n",
    "column =[\"output1_ranking\",\"output2_ranking\",\"output3_ranking\",\"output4_ranking\",\"output5_ranking\",\"output6_ranking\",\"output7_ranking\",\"output8_ranking\"] ###\n",
    "method_list = ['GreedyDist+BFS', 'GreedyDist+PR', 'SteinerTree+BFS', 'SteinerTree+PR', 'GreedyGen+BFS', 'GreedyGen+PR', 'MindMap', 'Gemini-1.5']\n",
    "\n",
    "file_path = './3_Ranking_Compute/4fields/Q714_Gemini1.5/Q_Medication_addGemini.csv'\n",
    "for i in range(len(method_list)):\n",
    "  average = calculate_column_average(file_path, column[i])\n",
    "  print(f\"The average of column {method_list[i]} is: {round(average,3)}\")"
   ]
  },
  {
   "cell_type": "code",
   "execution_count": 6,
   "id": "77ee3974",
   "metadata": {},
   "outputs": [
    {
     "name": "stdout",
     "output_type": "stream",
     "text": [
      "The average of column GreedyDist+BFS is: 3.299\n",
      "The average of column GreedyDist+PR is: 3.725\n",
      "The average of column SteinerTree+BFS is: 4.358\n",
      "The average of column SteinerTree+PR is: 5.311\n",
      "The average of column GreedyGen+BFS is: 4.025\n",
      "The average of column GreedyGen+PR is: 4.396\n",
      "The average of column MindMap is: 6.001\n",
      "The average of column Gemini-1.5 is: 5.926\n"
     ]
    }
   ],
   "source": [
    "import pandas as pd\n",
    "\n",
    "def calculate_column_average(file_path, column_name):\n",
    "    df = pd.read_csv(file_path)\n",
    "    average = df[column_name].mean()\n",
    "    return average\n",
    "\n",
    "column =[\"output1_ranking\",\"output2_ranking\",\"output3_ranking\",\"output4_ranking\",\"output5_ranking\",\"output6_ranking\",\"output7_ranking\",\"output8_ranking\"] ###\n",
    "method_list = ['GreedyDist+BFS', 'GreedyDist+PR', 'SteinerTree+BFS', 'SteinerTree+PR', 'GreedyGen+BFS', 'GreedyGen+PR', 'MindMap', 'Gemini-1.5']\n",
    "\n",
    "file_path = './3_Ranking_Compute/4fields/Q714_Gemini1.5/Q_Syptom_addGemini.csv'\n",
    "for i in range(len(method_list)):\n",
    "  average = calculate_column_average(file_path, column[i])\n",
    "  print(f\"The average of column {method_list[i]} is: {round(average,3)}\")"
   ]
  },
  {
   "cell_type": "markdown",
   "id": "3dedbf68",
   "metadata": {},
   "source": [
    "### Small LM"
   ]
  },
  {
   "cell_type": "code",
   "execution_count": 1,
   "id": "179d22b1",
   "metadata": {},
   "outputs": [
    {
     "name": "stdout",
     "output_type": "stream",
     "text": [
      "The average of column GreedyDist+BFS is: 3.636\n",
      "The average of column GreedyDist+PR is: 3.258\n",
      "The average of column SteinerTree+BFS is: 4.682\n",
      "The average of column SteinerTree+PR is: 5.136\n",
      "The average of column GreedyGen+BFS is: 4.47\n",
      "The average of column GreedyGen+PR is: 4.47\n",
      "The average of column MindMap is: 6.0\n",
      "The average of column Gemini-1.5 is: 4.348\n"
     ]
    }
   ],
   "source": [
    "import pandas as pd\n",
    "\n",
    "def calculate_column_average(file_path, column_name):\n",
    "    df = pd.read_csv(file_path)\n",
    "    average = df[column_name].mean()\n",
    "    return average\n",
    "\n",
    "column =[\"output1_ranking\",\"output2_ranking\",\"output3_ranking\",\"output4_ranking\",\"output5_ranking\",\"output6_ranking\",\"output7_ranking\",\"output8_ranking\"] ###\n",
    "method_list = ['GreedyDist+BFS', 'GreedyDist+PR', 'SteinerTree+BFS', 'SteinerTree+PR', 'GreedyGen+BFS', 'GreedyGen+PR', 'MindMap', 'Gemini-1.5']\n",
    "\n",
    "file_path = './3_Ranking_Compute/4fields/Q714_Gemma3-1B/Q_Disease.csv'\n",
    "for i in range(len(method_list)):\n",
    "  average = calculate_column_average(file_path, column[i])\n",
    "  print(f\"The average of column {method_list[i]} is: {round(average,3)}\")"
   ]
  },
  {
   "cell_type": "code",
   "execution_count": 2,
   "id": "6982180b",
   "metadata": {},
   "outputs": [
    {
     "name": "stdout",
     "output_type": "stream",
     "text": [
      "The average of column GreedyDist+BFS is: 2.933\n",
      "The average of column GreedyDist+PR is: 3.2\n",
      "The average of column SteinerTree+BFS is: 4.667\n",
      "The average of column SteinerTree+PR is: 4.933\n",
      "The average of column GreedyGen+BFS is: 4.2\n",
      "The average of column GreedyGen+PR is: 5.067\n",
      "The average of column MindMap is: 7.0\n",
      "The average of column Gemini-1.5 is: 4.0\n"
     ]
    }
   ],
   "source": [
    "import pandas as pd\n",
    "\n",
    "def calculate_column_average(file_path, column_name):\n",
    "    df = pd.read_csv(file_path)\n",
    "    average = df[column_name].mean()\n",
    "    return average\n",
    "\n",
    "column =[\"output1_ranking\",\"output2_ranking\",\"output3_ranking\",\"output4_ranking\",\"output5_ranking\",\"output6_ranking\",\"output7_ranking\",\"output8_ranking\"] ###\n",
    "method_list = ['GreedyDist+BFS', 'GreedyDist+PR', 'SteinerTree+BFS', 'SteinerTree+PR', 'GreedyGen+BFS', 'GreedyGen+PR', 'MindMap', 'Gemini-1.5']\n",
    "\n",
    "file_path = './3_Ranking_Compute/4fields/Q714_Gemma3-1B/Q_Medical_test.csv'\n",
    "for i in range(len(method_list)):\n",
    "  average = calculate_column_average(file_path, column[i])\n",
    "  print(f\"The average of column {method_list[i]} is: {round(average,3)}\")"
   ]
  },
  {
   "cell_type": "code",
   "execution_count": 3,
   "id": "d91e5335",
   "metadata": {},
   "outputs": [
    {
     "name": "stdout",
     "output_type": "stream",
     "text": [
      "The average of column GreedyDist+BFS is: 3.743\n",
      "The average of column GreedyDist+PR is: 3.886\n",
      "The average of column SteinerTree+BFS is: 4.743\n",
      "The average of column SteinerTree+PR is: 5.086\n",
      "The average of column GreedyGen+BFS is: 5.0\n",
      "The average of column GreedyGen+PR is: 4.743\n",
      "The average of column MindMap is: 5.943\n",
      "The average of column Gemini-1.5 is: 4.686\n"
     ]
    }
   ],
   "source": [
    "import pandas as pd\n",
    "\n",
    "def calculate_column_average(file_path, column_name):\n",
    "    df = pd.read_csv(file_path)\n",
    "    average = df[column_name].mean()\n",
    "    return average\n",
    "\n",
    "column =[\"output1_ranking\",\"output2_ranking\",\"output3_ranking\",\"output4_ranking\",\"output5_ranking\",\"output6_ranking\",\"output7_ranking\",\"output8_ranking\"] ###\n",
    "method_list = ['GreedyDist+BFS', 'GreedyDist+PR', 'SteinerTree+BFS', 'SteinerTree+PR', 'GreedyGen+BFS', 'GreedyGen+PR', 'MindMap', 'Gemini-1.5']\n",
    "\n",
    "file_path = './3_Ranking_Compute/4fields/Q714_Gemma3-1B/Q_Medication.csv'\n",
    "for i in range(len(method_list)):\n",
    "  average = calculate_column_average(file_path, column[i])\n",
    "  print(f\"The average of column {method_list[i]} is: {round(average,3)}\")"
   ]
  },
  {
   "cell_type": "code",
   "execution_count": 4,
   "id": "d43f054c",
   "metadata": {},
   "outputs": [
    {
     "name": "stdout",
     "output_type": "stream",
     "text": [
      "The average of column GreedyDist+BFS is: 3.378\n",
      "The average of column GreedyDist+PR is: 3.774\n",
      "The average of column SteinerTree+BFS is: 4.292\n",
      "The average of column SteinerTree+PR is: 4.912\n",
      "The average of column GreedyGen+BFS is: 4.31\n",
      "The average of column GreedyGen+PR is: 4.671\n",
      "The average of column MindMap is: 6.234\n",
      "The average of column Gemini-1.5 is: 5.021\n"
     ]
    }
   ],
   "source": [
    "import pandas as pd\n",
    "\n",
    "def calculate_column_average(file_path, column_name):\n",
    "    df = pd.read_csv(file_path)\n",
    "    average = df[column_name].mean()\n",
    "    return average\n",
    "\n",
    "column =[\"output1_ranking\",\"output2_ranking\",\"output3_ranking\",\"output4_ranking\",\"output5_ranking\",\"output6_ranking\",\"output7_ranking\",\"output8_ranking\"] ###\n",
    "method_list = ['GreedyDist+BFS', 'GreedyDist+PR', 'SteinerTree+BFS', 'SteinerTree+PR', 'GreedyGen+BFS', 'GreedyGen+PR', 'MindMap', 'Gemini-1.5']\n",
    "\n",
    "file_path = './3_Ranking_Compute/4fields/Q714_Gemma3-1B/Q_Syptom.csv'\n",
    "for i in range(len(method_list)):\n",
    "  average = calculate_column_average(file_path, column[i])\n",
    "  print(f\"The average of column {method_list[i]} is: {round(average,3)}\")"
   ]
  },
  {
   "cell_type": "code",
   "execution_count": null,
   "id": "64a728cd",
   "metadata": {},
   "outputs": [],
   "source": []
  },
  {
   "cell_type": "markdown",
   "id": "a74e25ed",
   "metadata": {},
   "source": [
    "## Answers"
   ]
  },
  {
   "cell_type": "code",
   "execution_count": 6,
   "id": "293c9288",
   "metadata": {},
   "outputs": [
    {
     "name": "stdout",
     "output_type": "stream",
     "text": [
      "The average of column GreedyDist+BFS is: 3.328\n",
      "The average of column GreedyDist+PR is: 3.079\n",
      "The average of column SteinerTree+BFS is: 4.537\n",
      "The average of column SteinerTree+PR is: 4.881\n",
      "The average of column GreedyGen+BFS is: 3.158\n",
      "The average of column GreedyGen+PR is: 3.463\n",
      "The average of column MindMap is: 5.554\n"
     ]
    }
   ],
   "source": [
    "import pandas as pd\n",
    "\n",
    "def calculate_column_average(file_path, column_name):\n",
    "    df = pd.read_csv(file_path)\n",
    "    average = df[column_name].mean()\n",
    "    return average\n",
    "\n",
    "column =[\"output1_ranking\",\"output2_ranking\",\"output3_ranking\",\"output4_ranking\",\"output5_ranking\",\"output6_ranking\",\"output7_ranking\"] ###\n",
    "method_list = ['GreedyDist+BFS', 'GreedyDist+PR', 'SteinerTree+BFS', 'SteinerTree+PR', 'GreedyGen+BFS', 'GreedyGen+PR', 'MindMap']\n",
    "\n",
    "file_path = './3_Ranking_Compute/A_Disease_GPTRanking_compute.csv'\n",
    "for i in range(len(method_list)):\n",
    "  average = calculate_column_average(file_path, column[i])\n",
    "  print(f\"The average of column {method_list[i]} is: {round(average,3)}\")"
   ]
  },
  {
   "cell_type": "code",
   "execution_count": 7,
   "id": "d02f489e",
   "metadata": {},
   "outputs": [
    {
     "name": "stdout",
     "output_type": "stream",
     "text": [
      "The average of column GreedyDist+BFS is: 3.509\n",
      "The average of column GreedyDist+PR is: 3.415\n",
      "The average of column SteinerTree+BFS is: 3.906\n",
      "The average of column SteinerTree+PR is: 4.906\n",
      "The average of column GreedyGen+BFS is: 3.736\n",
      "The average of column GreedyGen+PR is: 4.358\n",
      "The average of column MindMap is: 5.094\n"
     ]
    }
   ],
   "source": [
    "import pandas as pd\n",
    "\n",
    "def calculate_column_average(file_path, column_name):\n",
    "    df = pd.read_csv(file_path)\n",
    "    average = df[column_name].mean()\n",
    "    return average\n",
    "\n",
    "column =[\"output1_ranking\",\"output2_ranking\",\"output3_ranking\",\"output4_ranking\",\"output5_ranking\",\"output6_ranking\",\"output7_ranking\"] ###\n",
    "method_list = ['GreedyDist+BFS', 'GreedyDist+PR', 'SteinerTree+BFS', 'SteinerTree+PR', 'GreedyGen+BFS', 'GreedyGen+PR', 'MindMap']\n",
    "\n",
    "file_path = './3_Ranking_Compute/A_Medical_Test_GPTRanking_compute.csv'\n",
    "for i in range(len(method_list)):\n",
    "  average = calculate_column_average(file_path, column[i])\n",
    "  print(f\"The average of column {method_list[i]} is: {round(average,3)}\")"
   ]
  },
  {
   "cell_type": "code",
   "execution_count": 10,
   "id": "9bc793c5",
   "metadata": {},
   "outputs": [
    {
     "name": "stdout",
     "output_type": "stream",
     "text": [
      "The average of column GreedyDist+BFS is: 4.258\n",
      "The average of column GreedyDist+PR is: 3.29\n",
      "The average of column SteinerTree+BFS is: 4.323\n",
      "The average of column SteinerTree+PR is: 4.71\n",
      "The average of column GreedyGen+BFS is: 3.29\n",
      "The average of column GreedyGen+PR is: 4.129\n",
      "The average of column MindMap is: 4.0\n"
     ]
    }
   ],
   "source": [
    "import pandas as pd\n",
    "\n",
    "def calculate_column_average(file_path, column_name):\n",
    "    df = pd.read_csv(file_path)\n",
    "    average = df[column_name].mean()\n",
    "    return average\n",
    "\n",
    "column =[\"output1_ranking\",\"output2_ranking\",\"output3_ranking\",\"output4_ranking\",\"output5_ranking\",\"output6_ranking\",\"output7_ranking\"] ###\n",
    "method_list = ['GreedyDist+BFS', 'GreedyDist+PR', 'SteinerTree+BFS', 'SteinerTree+PR', 'GreedyGen+BFS', 'GreedyGen+PR', 'MindMap']\n",
    "\n",
    "file_path = './3_Ranking_Compute/A_Medication_GPTRanking_compute.csv'\n",
    "for i in range(len(method_list)):\n",
    "  average = calculate_column_average(file_path, column[i])\n",
    "  print(f\"The average of column {method_list[i]} is: {round(average,3)}\")"
   ]
  },
  {
   "cell_type": "code",
   "execution_count": 11,
   "id": "dbdc6337",
   "metadata": {},
   "outputs": [
    {
     "name": "stdout",
     "output_type": "stream",
     "text": [
      "The average of column GreedyDist+BFS is: 3.422\n",
      "The average of column GreedyDist+PR is: 3.193\n",
      "The average of column SteinerTree+BFS is: 4.265\n",
      "The average of column SteinerTree+PR is: 4.723\n",
      "The average of column GreedyGen+BFS is: 3.386\n",
      "The average of column GreedyGen+PR is: 3.904\n",
      "The average of column MindMap is: 5.108\n"
     ]
    }
   ],
   "source": [
    "import pandas as pd\n",
    "\n",
    "def calculate_column_average(file_path, column_name):\n",
    "    df = pd.read_csv(file_path)\n",
    "    average = df[column_name].mean()\n",
    "    return average\n",
    "\n",
    "column =[\"output1_ranking\",\"output2_ranking\",\"output3_ranking\",\"output4_ranking\",\"output5_ranking\",\"output6_ranking\",\"output7_ranking\"] ###\n",
    "method_list = ['GreedyDist+BFS', 'GreedyDist+PR', 'SteinerTree+BFS', 'SteinerTree+PR', 'GreedyGen+BFS', 'GreedyGen+PR', 'MindMap']\n",
    "\n",
    "file_path = './3_Ranking_Compute/A_Symptom_GPTRanking_compute.csv'\n",
    "for i in range(len(method_list)):\n",
    "  average = calculate_column_average(file_path, column[i])\n",
    "  print(f\"The average of column {method_list[i]} is: {round(average,3)}\")"
   ]
  },
  {
   "cell_type": "code",
   "execution_count": null,
   "id": "87d59901",
   "metadata": {},
   "outputs": [],
   "source": []
  },
  {
   "cell_type": "markdown",
   "id": "f2f44e54",
   "metadata": {},
   "source": [
    "## Question add Gemini"
   ]
  },
  {
   "cell_type": "code",
   "execution_count": 8,
   "id": "d27bd576",
   "metadata": {},
   "outputs": [
    {
     "name": "stdout",
     "output_type": "stream",
     "text": [
      "The average of column GreedyDist+BFS is: 4.167\n",
      "The average of column GreedyDist+PR is: 3.727\n",
      "The average of column SteinerTree+BFS is: 3.879\n",
      "The average of column SteinerTree+PR is: 4.924\n",
      "The average of column GreedyGen+BFS is: 3.97\n",
      "The average of column GreedyGen+PR is: 5.045\n",
      "The average of column MindMap is: 6.167\n",
      "The average of column Gemini2.0 is: 4.121\n"
     ]
    }
   ],
   "source": [
    "import pandas as pd\n",
    "\n",
    "def calculate_column_average(file_path, column_name):\n",
    "    df = pd.read_csv(file_path)\n",
    "    average = df[column_name].mean()\n",
    "    return average\n",
    "\n",
    "column =[\"output1_ranking\",\"output2_ranking\",\"output3_ranking\",\"output4_ranking\",\"output5_ranking\",\"output6_ranking\",\"output7_ranking\",\"output8_ranking\"] ###\n",
    "method_list = ['GreedyDist+BFS', 'GreedyDist+PR', 'SteinerTree+BFS', 'SteinerTree+PR', 'GreedyGen+BFS', 'GreedyGen+PR', 'MindMap', 'Gemini2.0']\n",
    "\n",
    "file_path = './3_Ranking_Compute/4fields/Q714_Gemini1.5/Q_Disease_addGemini.csv'\n",
    "for i in range(len(method_list)):\n",
    "  average = calculate_column_average(file_path, column[i])\n",
    "  print(f\"The average of column {method_list[i]} is: {round(average,3)}\")"
   ]
  },
  {
   "cell_type": "code",
   "execution_count": 9,
   "id": "712a2c65",
   "metadata": {},
   "outputs": [
    {
     "name": "stdout",
     "output_type": "stream",
     "text": [
      "The average of column GreedyDist+BFS is: 3.3\n",
      "The average of column GreedyDist+PR is: 3.732\n",
      "The average of column SteinerTree+BFS is: 4.361\n",
      "The average of column SteinerTree+PR is: 5.309\n",
      "The average of column GreedyGen+BFS is: 4.025\n",
      "The average of column GreedyGen+PR is: 4.401\n",
      "The average of column MindMap is: 5.993\n",
      "The average of column Gemini2.0 is: 5.92\n"
     ]
    }
   ],
   "source": [
    "import pandas as pd\n",
    "\n",
    "def calculate_column_average(file_path, column_name):\n",
    "    df = pd.read_csv(file_path)\n",
    "    average = df[column_name].mean()\n",
    "    return average\n",
    "\n",
    "column =[\"output1_ranking\",\"output2_ranking\",\"output3_ranking\",\"output4_ranking\",\"output5_ranking\",\"output6_ranking\",\"output7_ranking\",\"output8_ranking\"] ###\n",
    "method_list = ['GreedyDist+BFS', 'GreedyDist+PR', 'SteinerTree+BFS', 'SteinerTree+PR', 'GreedyGen+BFS', 'GreedyGen+PR', 'MindMap', 'Gemini2.0']\n",
    "\n",
    "file_path = './3_Ranking_Compute/4fields/Q714_Gemini1.5/Q_Syptom_addGemini.csv'\n",
    "for i in range(len(method_list)):\n",
    "  average = calculate_column_average(file_path, column[i])\n",
    "  print(f\"The average of column {method_list[i]} is: {round(average,3)}\")"
   ]
  },
  {
   "cell_type": "code",
   "execution_count": 10,
   "id": "446a9781",
   "metadata": {},
   "outputs": [
    {
     "name": "stdout",
     "output_type": "stream",
     "text": [
      "The average of column GreedyDist+BFS is: 4.857\n",
      "The average of column GreedyDist+PR is: 3.943\n",
      "The average of column SteinerTree+BFS is: 3.686\n",
      "The average of column SteinerTree+PR is: 5.114\n",
      "The average of column GreedyGen+BFS is: 4.229\n",
      "The average of column GreedyGen+PR is: 5.114\n",
      "The average of column MindMap is: 6.8\n",
      "The average of column Gemini2.0 is: 4.086\n"
     ]
    }
   ],
   "source": [
    "import pandas as pd\n",
    "\n",
    "def calculate_column_average(file_path, column_name):\n",
    "    df = pd.read_csv(file_path)\n",
    "    average = df[column_name].mean()\n",
    "    return average\n",
    "\n",
    "column =[\"output1_ranking\",\"output2_ranking\",\"output3_ranking\",\"output4_ranking\",\"output5_ranking\",\"output6_ranking\",\"output7_ranking\",\"output8_ranking\"] ###\n",
    "method_list = ['GreedyDist+BFS', 'GreedyDist+PR', 'SteinerTree+BFS', 'SteinerTree+PR', 'GreedyGen+BFS', 'GreedyGen+PR', 'MindMap', 'Gemini2.0']\n",
    "\n",
    "file_path = './3_Ranking_Compute/4fields/Q714_Gemini1.5/Q_Medication_addGemini.csv'\n",
    "for i in range(len(method_list)):\n",
    "  average = calculate_column_average(file_path, column[i])\n",
    "  print(f\"The average of column {method_list[i]} is: {round(average,3)}\")"
   ]
  },
  {
   "cell_type": "code",
   "execution_count": 11,
   "id": "6073ed47",
   "metadata": {},
   "outputs": [
    {
     "name": "stdout",
     "output_type": "stream",
     "text": [
      "The average of column GreedyDist+BFS is: 4.133\n",
      "The average of column GreedyDist+PR is: 3.067\n",
      "The average of column SteinerTree+BFS is: 4.067\n",
      "The average of column SteinerTree+PR is: 4.8\n",
      "The average of column GreedyGen+BFS is: 3.667\n",
      "The average of column GreedyGen+PR is: 4.467\n",
      "The average of column MindMap is: 7.2\n",
      "The average of column Gemini2.0 is: 4.6\n"
     ]
    }
   ],
   "source": [
    "import pandas as pd\n",
    "\n",
    "def calculate_column_average(file_path, column_name):\n",
    "    df = pd.read_csv(file_path)\n",
    "    average = df[column_name].mean()\n",
    "    return average\n",
    "\n",
    "column =[\"output1_ranking\",\"output2_ranking\",\"output3_ranking\",\"output4_ranking\",\"output5_ranking\",\"output6_ranking\",\"output7_ranking\",\"output8_ranking\"] ###\n",
    "method_list = ['GreedyDist+BFS', 'GreedyDist+PR', 'SteinerTree+BFS', 'SteinerTree+PR', 'GreedyGen+BFS', 'GreedyGen+PR', 'MindMap', 'Gemini2.0']\n",
    "\n",
    "file_path = './3_Ranking_Compute/4fields/Q714_Gemini1.5/Q_Medical_Test_addGemini.csv'\n",
    "for i in range(len(method_list)):\n",
    "  average = calculate_column_average(file_path, column[i])\n",
    "  print(f\"The average of column {method_list[i]} is: {round(average,3)}\")"
   ]
  },
  {
   "cell_type": "code",
   "execution_count": null,
   "id": "8ff9e39c",
   "metadata": {},
   "outputs": [],
   "source": []
  }
 ],
 "metadata": {
  "kernelspec": {
   "display_name": "venv",
   "language": "python",
   "name": "python3"
  },
  "language_info": {
   "codemirror_mode": {
    "name": "ipython",
    "version": 3
   },
   "file_extension": ".py",
   "mimetype": "text/x-python",
   "name": "python",
   "nbconvert_exporter": "python",
   "pygments_lexer": "ipython3",
   "version": "3.10.16"
  }
 },
 "nbformat": 4,
 "nbformat_minor": 5
}
